{
 "cells": [
  {
   "cell_type": "code",
   "execution_count": 1,
   "metadata": {},
   "outputs": [],
   "source": [
    "import matplotlib.pyplot as plt\n",
    "import numpy as np\n",
    "\n",
    "import torch\n",
    "from torch import nn, optim\n",
    "from torchvision import datasets, transforms\n",
    "\n",
    "import zipfile\n",
    "\n",
    "import shutil\n",
    "import os\n",
    "import pandas as pd\n",
    "\n",
    "device = (\"cuda\" if torch.cuda.is_available() else \"cpu\") # Use GPU or CPU for training"
   ]
  },
  {
   "cell_type": "code",
   "execution_count": 2,
   "metadata": {},
   "outputs": [
    {
     "data": {
      "text/plain": [
       "'with zipfile.ZipFile(\"celeba.zip\",\"r\") as zip_ref:\\n  zip_ref.extractall(\"data_faces/\")'"
      ]
     },
     "execution_count": 2,
     "metadata": {},
     "output_type": "execute_result"
    }
   ],
   "source": [
    "'''with zipfile.ZipFile(\"celeba.zip\",\"r\") as zip_ref:\n",
    "  zip_ref.extractall(\"data_faces/\")'''"
   ]
  },
  {
   "cell_type": "code",
   "execution_count": 3,
   "metadata": {},
   "outputs": [
    {
     "name": "stdout",
     "output_type": "stream",
     "text": [
      "202599\n"
     ]
    }
   ],
   "source": [
    "\n",
    "root = '/home/luser/autoencoder_attacks/train_aautoencoders/data_faces/img_align_celeba'\n",
    "img_list = os.listdir(root)\n",
    "print(len(img_list))"
   ]
  },
  {
   "cell_type": "code",
   "execution_count": 4,
   "metadata": {},
   "outputs": [],
   "source": [
    "\n",
    "df = pd.read_csv(\"/home/luser/autoencoder_attacks/train_aautoencoders/list_attr_celeba.csv\")\n",
    "#df = df[['image_id', 'Smiling']]"
   ]
  },
  {
   "cell_type": "code",
   "execution_count": 5,
   "metadata": {},
   "outputs": [
    {
     "data": {
      "text/plain": [
       "Index(['image_id', '5_o_Clock_Shadow', 'Arched_Eyebrows', 'Attractive',\n",
       "       'Bags_Under_Eyes', 'Bald', 'Bangs', 'Big_Lips', 'Big_Nose',\n",
       "       'Black_Hair', 'Blond_Hair', 'Blurry', 'Brown_Hair', 'Bushy_Eyebrows',\n",
       "       'Chubby', 'Double_Chin', 'Eyeglasses', 'Goatee', 'Gray_Hair',\n",
       "       'Heavy_Makeup', 'High_Cheekbones', 'Male', 'Mouth_Slightly_Open',\n",
       "       'Mustache', 'Narrow_Eyes', 'No_Beard', 'Oval_Face', 'Pale_Skin',\n",
       "       'Pointy_Nose', 'Receding_Hairline', 'Rosy_Cheeks', 'Sideburns',\n",
       "       'Smiling', 'Straight_Hair', 'Wavy_Hair', 'Wearing_Earrings',\n",
       "       'Wearing_Hat', 'Wearing_Lipstick', 'Wearing_Necklace',\n",
       "       'Wearing_Necktie', 'Young'],\n",
       "      dtype='object')"
      ]
     },
     "execution_count": 5,
     "metadata": {},
     "output_type": "execute_result"
    }
   ],
   "source": [
    "df\n",
    "#get all the row titles\n",
    "df.index\n",
    "# get all the column titles\n",
    "df.columns"
   ]
  },
  {
   "cell_type": "code",
   "execution_count": 6,
   "metadata": {},
   "outputs": [
    {
     "data": {
      "text/plain": [
       "'!rm -rf data\\n!mkdir data && mkdir data/smile && mkdir data/no_smile'"
      ]
     },
     "execution_count": 6,
     "metadata": {},
     "output_type": "execute_result"
    }
   ],
   "source": [
    "# to make directories\n",
    "\n",
    "'''!rm -rf data\n",
    "!mkdir data && mkdir data/smile && mkdir data/no_smile'''"
   ]
  },
  {
   "cell_type": "code",
   "execution_count": 7,
   "metadata": {},
   "outputs": [
    {
     "ename": "IndentationError",
     "evalue": "unexpected indent (2524625619.py, line 42)",
     "output_type": "error",
     "traceback": [
      "\u001b[0;36m  Cell \u001b[0;32mIn[7], line 42\u001b[0;36m\u001b[0m\n\u001b[0;31m    '''if s1 < num: # for female eye glasses\u001b[0m\n\u001b[0m    ^\u001b[0m\n\u001b[0;31mIndentationError\u001b[0m\u001b[0;31m:\u001b[0m unexpected indent\n"
     ]
    }
   ],
   "source": [
    "\n",
    "s0 = 0\n",
    "s1 = 0\n",
    "s2 = 0\n",
    "s3 = 0\n",
    "s4 = 0\n",
    "s5 = 0\n",
    "s6 = 0\n",
    "s7 = 0\n",
    "\n",
    "num = 700000\n",
    "\n",
    "for i, (_, i_row) in enumerate(df.iterrows()):\n",
    "  '''if s0 < num: # for bald\n",
    "    if i_row['Bald'] == 1 and i_row['Wearing_Hat'] == -1 and i_row['No_Beard'] == 1 and i_row['Male'] == 1 and i_row['Eyeglasses'] == -1:\n",
    "      s0 += 1\n",
    "      shutil.copyfile('/home/luser/autoencoder_attacks/train_aautoencoders/data_faces/img_align_celeba/' + i_row['image_id'], '/home/luser/autoencoder_attacks/train_aautoencoders/celebA_categorized/celebAbald/bald_disjoined/' + i_row['image_id'])\n",
    "  \n",
    "  if s1 < num: # for hat\n",
    "    #if i_row['Wearing_Hat'] == 1:\n",
    "    if i_row['Bald'] == -1 and i_row['Wearing_Hat'] == 1 and i_row['No_Beard'] == 1 and i_row['Male'] == 1 and i_row['Eyeglasses'] == -1:\n",
    "      s1 += 1\n",
    "      shutil.copyfile('/home/luser/autoencoder_attacks/train_aautoencoders/data_faces/img_align_celeba/' + i_row['image_id'], '/home/luser/autoencoder_attacks/train_aautoencoders/celebA_categorized/celebA_hat/Wearing_Hat_disjoined/' + i_row['image_id'])\n",
    "  \n",
    "  if s1 < num: # for beard\n",
    "    #if i_row['No_Beard'] == -1:\n",
    "    if i_row['Bald'] == -1 and i_row['Wearing_Hat'] == -1 and i_row['No_Beard'] == -1 and i_row['Male'] == 1 and i_row['Eyeglasses'] == -1:\n",
    "      s1 += 1\n",
    "      shutil.copyfile('/home/luser/autoencoder_attacks/train_aautoencoders/data_faces/img_align_celeba/' + i_row['image_id'], '/home/luser/autoencoder_attacks/train_aautoencoders/celebA_categorized/celebAbeard/withBeard_disjoined/' + i_row['image_id'])\n",
    "\n",
    "  if s1 < num: # for female eye glasses\n",
    "    #if i_row['Male'] == -1 and i_row['Eyeglasses'] == 1:\n",
    "    if i_row['Bald'] == -1 and i_row['Wearing_Hat'] == -1 and i_row['No_Beard'] == 1 and i_row['Male'] == -1 and i_row['Eyeglasses'] == 1 and i_row['Gray_Hair'] == 1  and i_row['Young'] == -1:\n",
    "      s1 += 1\n",
    "      shutil.copyfile('/home/luser/autoencoder_attacks/train_aautoencoders/data_faces/img_align_celeba/' + i_row['image_id'], '/home/luser/autoencoder_attacks/train_aautoencoders/celebA_categorized//celebAblackWomenGlasses_d/black_women_eyeglass_disjoined/' + i_row['image_id'])\n",
    "\n",
    "  if s1 < num: # for female eye glasses\n",
    "    #if i_row['Male'] == -1 and i_row['Eyeglasses'] == 1:\n",
    "    if i_row['Bald'] == -1 and i_row['Wearing_Hat'] == -1 and i_row['No_Beard'] == 1 and i_row['Male'] == -1 and i_row['Eyeglasses'] == 1 and i_row['Gray_Hair'] == 1  and i_row['Young'] == -1:\n",
    "      s1 += 1\n",
    "      shutil.copyfile('/home/luser/autoencoder_attacks/train_aautoencoders/data_faces/img_align_celeba/' + i_row['image_id'], '/home/luser/autoencoder_attacks/train_aautoencoders/celebA_categorized//celebAoldWomenGlasses_d/old_women_eyeglass_disjoined/' + i_row['image_id'])'''\n",
    "\n",
    "  '''if s1 < num: # for female eye glasses\n",
    "    #if i_row['Male'] == -1 and i_row['Eyeglasses'] == 1:\n",
    "    if i_row['Bald'] == -1 and i_row['Wearing_Hat'] == -1 and i_row['No_Beard'] == 1 and i_row['Male'] == -1 and i_row['Black_Hair'] == 1  and i_row['Pale_Skin'] == -1 and i_row['Big_Lips'] == 1 and i_row['Big_Nose'] == 1 and i_row['Wearing_Lipstick'] == 1 and i_row['Wearing_Earrings'] == 1:     \n",
    "      s1 += 1\n",
    "      shutil.copyfile('/home/luser/autoencoder_attacks/train_aautoencoders/data_faces/img_align_celeba/' + i_row['image_id'], '/home/luser/autoencoder_attacks/train_aautoencoders/celebA_categorized//celebA_blackWomen_d/blackWomen_disjoined/' + i_row['image_id'])'''\n",
    "\n",
    "\n",
    "  '''if s1 < num: # for female eye glasses\n",
    "    #if i_row['Male'] == -1 and i_row['Eyeglasses'] == 1:\n",
    "    if i_row['Bald'] == -1 and i_row['Wearing_Hat'] == -1 and i_row['No_Beard'] == 1 and i_row['Male'] == -1 and i_row['Pale_Skin'] == 1 and i_row['Eyeglasses'] == -1 and i_row['Blond_Hair'] == 1 :      \n",
    "      s1 += 1\n",
    "      shutil.copyfile('/home/luser/autoencoder_attacks/train_aautoencoders/data_faces/img_align_celeba/' + i_row['image_id'], '/home/luser/autoencoder_attacks/train_aautoencoders/celebA_categorized//celebA_whiteWomen/whiteWomen_d/' + i_row['image_id'])'''\n",
    "\n",
    "\n",
    "  '''if s1 < num: # for female eye glasses\n",
    "    #if i_row['Male'] == -1 and i_row['Eyeglasses'] == 1:\n",
    "    if i_row['Bald'] == -1 and i_row['Wearing_Hat'] == -1 and i_row['No_Beard'] == 1 and i_row['Male'] == -1 and i_row['Pale_Skin'] == 1 and i_row['Eyeglasses'] == -1 :      \n",
    "      s1 += 1\n",
    "      shutil.copyfile('/home/luser/autoencoder_attacks/train_aautoencoders/data_faces/img_align_celeba/' + i_row['image_id'], '/home/luser/autoencoder_attacks/train_aautoencoders/celebA_categorized//celebA_generalWhiteWomen_d/generalWhiteWomen_disjoined/' + i_row['image_id'])'''\n",
    "\n",
    "\n",
    "  '''if s1 < num: # black men\n",
    "    #if i_row['Male'] == -1 and i_row['Eyeglasses'] == 1:\n",
    "    if i_row['Male'] == 1 and i_row['Black_Hair'] == 1  and i_row['Pale_Skin'] == -1 and i_row['Big_Lips'] == 1 and i_row['Big_Nose'] == 1 :     \n",
    "      s1 += 1\n",
    "      shutil.copyfile('/home/luser/autoencoder_attacks/train_aautoencoders/data_faces/img_align_celeba/' + i_row['image_id'], '/home/luser/autoencoder_attacks/train_aautoencoders/celebA_categorized//celebA_blackMen_d/blackMen_disjoined/' + i_row['image_id'])'''\n",
    "\n",
    "  '''if s1 < num: # for female eye glasses\n",
    "    #if i_row['Male'] == -1 and i_row['Eyeglasses'] == 1:\n",
    "    if i_row['Male'] == 1 and i_row['Pale_Skin'] == 1 :      \n",
    "      s1 += 1\n",
    "      shutil.copyfile('/home/luser/autoencoder_attacks/train_aautoencoders/data_faces/img_align_celeba/' + i_row['image_id'], '/home/luser/autoencoder_attacks/train_aautoencoders/celebA_categorized//celebA_generalWhiteMen_d/generalWhiteMen_disjoined/' + i_row['image_id'])'''\n",
    "\n",
    "  '''if s1 < num: # for female eye glasses\n",
    "    #if i_row['Male'] == -1 and i_row['Eyeglasses'] == 1:\n",
    "    if i_row['Young'] == 1 and i_row['Male'] == 1 :      \n",
    "      s1 += 1\n",
    "      shutil.copyfile('/home/luser/autoencoder_attacks/train_aautoencoders/data_faces/img_align_celeba/' + i_row['image_id'], '/home/luser/autoencoder_attacks/train_aautoencoders/celebA_categorized/celebA_youngMen_d/youngMen_disjoined' + i_row['image_id'])\n",
    "\n",
    "  if s2 < num: # for female eye glasses\n",
    "    #if i_row['Male'] == -1 and i_row['Eyeglasses'] == 1:\n",
    "    if i_row['Young'] == 1 and i_row['Male'] == -1 :      \n",
    "      s2 += 1\n",
    "      shutil.copyfile('/home/luser/autoencoder_attacks/train_aautoencoders/data_faces/img_align_celeba/' + i_row['image_id'], '/home/luser/autoencoder_attacks/train_aautoencoders/celebA_categorized/celebA_youngWomen_d/youngWomen_disjoined/' + i_row['image_id'])\n",
    "\n",
    "  if s3 < num: # for female eye glasses\n",
    "    #if i_row['Male'] == -1 and i_row['Eyeglasses'] == 1:\n",
    "    if i_row['Young'] == -1 and i_row['Male'] == 1 and i_row['Gray_Hair'] == 1 :      \n",
    "      s3 += 1\n",
    "      shutil.copyfile('/home/luser/autoencoder_attacks/train_aautoencoders/data_faces/img_align_celeba/' + i_row['image_id'], '/home/luser/autoencoder_attacks/train_aautoencoders/celebA_categorized/celebA_oldMen_d/oldMen_disjoined/' + i_row['image_id'])\n",
    "\n",
    "  if s4 < num: # for female eye glasses\n",
    "    #if i_row['Male'] == -1 and i_row['Eyeglasses'] == 1:\n",
    "    if i_row['Young'] == -1 and i_row['Male'] == -1 and i_row['Gray_Hair'] == 1:      \n",
    "      s4 += 1\n",
    "      shutil.copyfile('/home/luser/autoencoder_attacks/train_aautoencoders/data_faces/img_align_celeba/' + i_row['image_id'], '/home/luser/autoencoder_attacks/train_aautoencoders/celebA_categorized/celebA_oldWomen_d/oldWomen_disjoined/' + i_row['image_id'])'''\n",
    "\n",
    "\n",
    "  if s0 < num: # for female eye glasses\n",
    "    #if i_row['Male'] == -1 and i_row['Eyeglasses'] == 1:\n",
    "    if i_row['Bald'] == -1 and i_row['Wearing_Hat'] == -1 and i_row['No_Beard'] == 1 and i_row['Male'] == -1 and i_row['Black_Hair'] == 1  and i_row['Pale_Skin'] == -1 and i_row['Big_Lips'] == 1 and i_row['Big_Nose'] == 1 and i_row['Wearing_Lipstick'] == 1 and i_row['Wearing_Earrings'] == 1 and i_row['Wearing_Earrings'] == 1 and i_row['Young'] == 1 and i_row['Gray_Hair'] == -1 :     \n",
    "      s0 += 1\n",
    "      shutil.copyfile('/home/luser/autoencoder_attacks/train_aautoencoders/data_faces/img_align_celeba/' + i_row['image_id'], '/home/luser/autoencoder_attacks/train_aautoencoders/celebA_categorized//celebA_youngblackWomen_d/youngblackWomen_disjoined/' + i_row['image_id'])\n",
    "\n",
    "  if s1 < num: # for female eye glasses\n",
    "    #if i_row['Male'] == -1 and i_row['Eyeglasses'] == 1:\n",
    "    if i_row['Bald'] == -1 and i_row['Wearing_Hat'] == -1 and i_row['No_Beard'] == 1 and i_row['Male'] == -1 and i_row['Black_Hair'] == 1  and i_row['Pale_Skin'] == -1 and i_row['Big_Lips'] == 1 and i_row['Big_Nose'] == 1 and i_row['Wearing_Lipstick'] == 1 and i_row['Wearing_Earrings'] == 1 and i_row['Wearing_Earrings'] == 1 and i_row['Young'] == -1 :     \n",
    "      s1 += 1\n",
    "      shutil.copyfile('/home/luser/autoencoder_attacks/train_aautoencoders/data_faces/img_align_celeba/' + i_row['image_id'], '/home/luser/autoencoder_attacks/train_aautoencoders/celebA_categorized//celebA_oldblackWomen_d/oldblackWomen_disjoined/' + i_row['image_id'])\n",
    "\n",
    "  if s2 < num: # for female eye glasses\n",
    "    #if i_row['Male'] == -1 and i_row['Eyeglasses'] == 1:\n",
    "    if i_row['Bald'] == -1 and i_row['Wearing_Hat'] == -1 and i_row['No_Beard'] == 1 and i_row['Male'] == -1 and i_row['Pale_Skin'] == 1 and i_row['Eyeglasses'] == -1 and i_row['Young'] == 1 and i_row['Gray_Hair'] == -1 :      \n",
    "      s2 += 1\n",
    "      shutil.copyfile('/home/luser/autoencoder_attacks/train_aautoencoders/data_faces/img_align_celeba/' + i_row['image_id'], '/home/luser/autoencoder_attacks/train_aautoencoders/celebA_categorized//celebA_younggeneralWhiteWomen_d/younggeneralWhiteWomen_disjoined/' + i_row['image_id'])\n",
    "\n",
    "\n",
    "  if s3 < num: # for female eye glasses\n",
    "    #if i_row['Male'] == -1 and i_row['Eyeglasses'] == 1:\n",
    "    if i_row['Bald'] == -1 and i_row['Wearing_Hat'] == -1 and i_row['No_Beard'] == 1 and i_row['Male'] == -1 and i_row['Pale_Skin'] == 1 and i_row['Eyeglasses'] == -1 and i_row['Young'] == -1 and i_row['Gray_Hair'] == 1 :      \n",
    "      s3 += 1\n",
    "      shutil.copyfile('/home/luser/autoencoder_attacks/train_aautoencoders/data_faces/img_align_celeba/' + i_row['image_id'], '/home/luser/autoencoder_attacks/train_aautoencoders/celebA_categorized//celebA_oldgeneralWhiteWomen_d/oldgeneralWhiteWomen_disjoined/' + i_row['image_id'])\n",
    "\n",
    "  if s4 < num: # black men\n",
    "    #if i_row['Male'] == -1 and i_row['Eyeglasses'] == 1:\n",
    "    if i_row['Male'] == 1 and i_row['Black_Hair'] == 1  and i_row['Pale_Skin'] == -1 and i_row['Big_Lips'] == 1 and i_row['Big_Nose'] == 1 and i_row['Young'] == 1 and i_row['Gray_Hair'] == -1 :     \n",
    "      s4 += 1\n",
    "      shutil.copyfile('/home/luser/autoencoder_attacks/train_aautoencoders/data_faces/img_align_celeba/' + i_row['image_id'], '/home/luser/autoencoder_attacks/train_aautoencoders/celebA_categorized//celebA_youngblackMen_d/youngblackMen_disjoined/' + i_row['image_id'])\n",
    "\n",
    "\n",
    "  if s5 < num: # black men\n",
    "    #if i_row['Male'] == -1 and i_row['Eyeglasses'] == 1:\n",
    "    if i_row['Male'] == 1 and i_row['Black_Hair'] == 1  and i_row['Pale_Skin'] == -1 and i_row['Big_Lips'] == 1 and i_row['Big_Nose'] == 1 and i_row['Young'] == -1 :     \n",
    "      s5 += 1\n",
    "      shutil.copyfile('/home/luser/autoencoder_attacks/train_aautoencoders/data_faces/img_align_celeba/' + i_row['image_id'], '/home/luser/autoencoder_attacks/train_aautoencoders/celebA_categorized//celebA_oldblackMen_d/oldblackMen_disjoined/' + i_row['image_id'])\n",
    "\n",
    "\n",
    "  if s6 < num: # for female eye glasses\n",
    "    #if i_row['Male'] == -1 and i_row['Eyeglasses'] == 1:\n",
    "    if i_row['Male'] == 1 and i_row['Pale_Skin'] == 1 and i_row['Young'] == 1 and i_row['Gray_Hair'] == -1 :      \n",
    "      s6 += 1\n",
    "      shutil.copyfile('/home/luser/autoencoder_attacks/train_aautoencoders/data_faces/img_align_celeba/' + i_row['image_id'], '/home/luser/autoencoder_attacks/train_aautoencoders/celebA_categorized//celebA_younggeneralWhiteMen_d/younggeneralWhiteMen_disjoined/' + i_row['image_id'])\n",
    "\n",
    "\n",
    "  if s7 < num: # for female eye glasses\n",
    "    #if i_row['Male'] == -1 and i_row['Eyeglasses'] == 1:\n",
    "    if i_row['Male'] == 1 and i_row['Pale_Skin'] == 1 and i_row['Young'] == -1 and i_row['Gray_Hair'] == 1 :      \n",
    "      s7 += 1\n",
    "      shutil.copyfile('/home/luser/autoencoder_attacks/train_aautoencoders/data_faces/img_align_celeba/' + i_row['image_id'], '/home/luser/autoencoder_attacks/train_aautoencoders/celebA_categorized//celebA_oldgeneralWhiteMen_d/oldgeneralWhiteMen_disjoined/' + i_row['image_id'])\n",
    "\n",
    "\n",
    "  if s0 == num and s1 == num and s2 == num and s3 == num and s4 == num  and s5 == num  and s6 == num  and s7 == num:\n",
    "    break"
   ]
  },
  {
   "cell_type": "code",
   "execution_count": null,
   "metadata": {},
   "outputs": [],
   "source": []
  },
  {
   "cell_type": "code",
   "execution_count": null,
   "metadata": {},
   "outputs": [],
   "source": []
  },
  {
   "cell_type": "code",
   "execution_count": 7,
   "metadata": {},
   "outputs": [
    {
     "name": "stdout",
     "output_type": "stream",
     "text": [
      "all men List:  84434\n"
     ]
    }
   ],
   "source": [
    "#femaleGlass_address = '/home/luser/autoencoder_attacks/train_aautoencoders/celebA_categorized/celebAWomenGlasses/women_eyeglass'\n",
    "all_men_address = '/home/luser/autoencoder_attacks/train_aautoencoders/celebA_categorized/celebA_men_d/men_disjoined'\n",
    "all_men_parent = '/home/luser/autoencoder_attacks/train_aautoencoders/celebA_categorized/celebA_men_d'\n",
    "all_men_list = os.listdir(all_men_address)\n",
    "#femaleGlass_list.extend(os.listdir('/home/luser/autoencoder_attacks/train_aautoencoders/celebA_categorized/women_eyeglass/'))\n",
    "print(\"all men List: \", len(all_men_list))"
   ]
  },
  {
   "cell_type": "code",
   "execution_count": 8,
   "metadata": {},
   "outputs": [
    {
     "name": "stdout",
     "output_type": "stream",
     "text": [
      "all women List:  118165\n"
     ]
    }
   ],
   "source": [
    "#femaleGlass_address = '/home/luser/autoencoder_attacks/train_aautoencoders/celebA_categorized/celebAWomenGlasses/women_eyeglass'\n",
    "all_women_address = '/home/luser/autoencoder_attacks/train_aautoencoders/celebA_categorized/celebA_women_d/women_disjoined'\n",
    "all_women_parent = '/home/luser/autoencoder_attacks/train_aautoencoders/celebA_categorized/celebA_women_d'\n",
    "all_women_list = os.listdir(all_women_address)\n",
    "#femaleGlass_list.extend(os.listdir('/home/luser/autoencoder_attacks/train_aautoencoders/celebA_categorized/women_eyeglass/'))\n",
    "print(\"all women List: \", len(all_women_list))"
   ]
  },
  {
   "cell_type": "code",
   "execution_count": 9,
   "metadata": {},
   "outputs": [
    {
     "name": "stdout",
     "output_type": "stream",
     "text": [
      "all young List:  156734\n"
     ]
    }
   ],
   "source": [
    "#femaleGlass_address = '/home/luser/autoencoder_attacks/train_aautoencoders/celebA_categorized/celebAWomenGlasses/women_eyeglass'\n",
    "all_young_address = '/home/luser/autoencoder_attacks/train_aautoencoders/celebA_categorized/celebA_young_d/young_disjoined'\n",
    "all_young_parent = '/home/luser/autoencoder_attacks/train_aautoencoders/celebA_categorized/celebA_young_d'\n",
    "all_young_list = os.listdir(all_young_address)\n",
    "#femaleGlass_list.extend(os.listdir('/home/luser/autoencoder_attacks/train_aautoencoders/celebA_categorized/women_eyeglass/'))\n",
    "print(\"all young List: \", len(all_young_list))"
   ]
  },
  {
   "cell_type": "code",
   "execution_count": 10,
   "metadata": {},
   "outputs": [
    {
     "name": "stdout",
     "output_type": "stream",
     "text": [
      "all old List:  45865\n"
     ]
    }
   ],
   "source": [
    "#femaleGlass_address = '/home/luser/autoencoder_attacks/train_aautoencoders/celebA_categorized/celebAWomenGlasses/women_eyeglass'\n",
    "all_old_address = '/home/luser/autoencoder_attacks/train_aautoencoders/celebA_categorized/celebA_old_d/old_disjoined'\n",
    "all_old_parent = '/home/luser/autoencoder_attacks/train_aautoencoders/celebA_categorized/celebA_old_d'\n",
    "all_old_list = os.listdir(all_old_address)\n",
    "#femaleGlass_list.extend(os.listdir('/home/luser/autoencoder_attacks/train_aautoencoders/celebA_categorized/women_eyeglass/'))\n",
    "print(\"all old List: \", len(all_old_list))"
   ]
  },
  {
   "cell_type": "code",
   "execution_count": 11,
   "metadata": {},
   "outputs": [
    {
     "name": "stdout",
     "output_type": "stream",
     "text": [
      "young men List:  53447\n"
     ]
    }
   ],
   "source": [
    "#femaleGlass_address = '/home/luser/autoencoder_attacks/train_aautoencoders/celebA_categorized/celebAWomenGlasses/women_eyeglass'\n",
    "young_men_address = '/home/luser/autoencoder_attacks/train_aautoencoders/celebA_categorized/celebA_youngMen_d/youngMen_disjoined'\n",
    "young_men_parent = '/home/luser/autoencoder_attacks/train_aautoencoders/celebA_categorized/celebA_youngMen_d'\n",
    "young_men_list = os.listdir(young_men_address)\n",
    "#femaleGlass_list.extend(os.listdir('/home/luser/autoencoder_attacks/train_aautoencoders/celebA_categorized/women_eyeglass/'))\n",
    "print(\"young men List: \", len(young_men_list))"
   ]
  },
  {
   "cell_type": "code",
   "execution_count": 12,
   "metadata": {},
   "outputs": [
    {
     "name": "stdout",
     "output_type": "stream",
     "text": [
      "old men List:  7003\n"
     ]
    }
   ],
   "source": [
    "#femaleGlass_address = '/home/luser/autoencoder_attacks/train_aautoencoders/celebA_categorized/celebAWomenGlasses/women_eyeglass'\n",
    "old_men_address = '/home/luser/autoencoder_attacks/train_aautoencoders/celebA_categorized/celebA_oldMen_d/oldMen_disjoined'\n",
    "old_men_parent = '/home/luser/autoencoder_attacks/train_aautoencoders/celebA_categorized/celebA_oldMen_d'\n",
    "old_men_list = os.listdir(old_men_address)\n",
    "#femaleGlass_list.extend(os.listdir('/home/luser/autoencoder_attacks/train_aautoencoders/celebA_categorized/women_eyeglass/'))\n",
    "print(\"old men List: \", len(old_men_list))"
   ]
  },
  {
   "cell_type": "code",
   "execution_count": 13,
   "metadata": {},
   "outputs": [
    {
     "name": "stdout",
     "output_type": "stream",
     "text": [
      "old women List:  1116\n"
     ]
    }
   ],
   "source": [
    "#femaleGlass_address = '/home/luser/autoencoder_attacks/train_aautoencoders/celebA_categorized/celebAWomenGlasses/women_eyeglass'\n",
    "old_women_address = '/home/luser/autoencoder_attacks/train_aautoencoders/celebA_categorized/celebA_oldWomen_d/oldWomen_disjoined'\n",
    "old_women_parent = '/home/luser/autoencoder_attacks/train_aautoencoders/celebA_categorized/celebA_oldWomen_d'\n",
    "old_women_list = os.listdir(old_women_address)\n",
    "#femaleGlass_list.extend(os.listdir('/home/luser/autoencoder_attacks/train_aautoencoders/celebA_categorized/women_eyeglass/'))\n",
    "print(\"old women List: \", len(old_women_list))"
   ]
  },
  {
   "cell_type": "code",
   "execution_count": 14,
   "metadata": {},
   "outputs": [
    {
     "name": "stdout",
     "output_type": "stream",
     "text": [
      "young women List:  103287\n"
     ]
    }
   ],
   "source": [
    "#femaleGlass_address = '/home/luser/autoencoder_attacks/train_aautoencoders/celebA_categorized/celebAWomenGlasses/women_eyeglass'\n",
    "young_women_address = '/home/luser/autoencoder_attacks/train_aautoencoders/celebA_categorized/celebA_youngWomen_d/youngWomen_disjoined'\n",
    "young_women_parent = '/home/luser/autoencoder_attacks/train_aautoencoders/celebA_categorized/celebA_youngWomen_d'\n",
    "young_women_list = os.listdir(young_women_address)\n",
    "#femaleGlass_list.extend(os.listdir('/home/luser/autoencoder_attacks/train_aautoencoders/celebA_categorized/women_eyeglass/'))\n",
    "print(\"young women List: \", len(young_women_list))"
   ]
  },
  {
   "cell_type": "code",
   "execution_count": null,
   "metadata": {},
   "outputs": [],
   "source": []
  },
  {
   "cell_type": "code",
   "execution_count": 396,
   "metadata": {},
   "outputs": [
    {
     "data": {
      "text/plain": [
       "VAE_big(\n",
       "  (encoder): Sequential(\n",
       "    (0): Conv2d(3, 64, kernel_size=(4, 4), stride=(2, 2))\n",
       "    (1): ReLU()\n",
       "    (2): Conv2d(64, 64, kernel_size=(3, 3), stride=(1, 1), padding=(1, 1))\n",
       "    (3): ReLU()\n",
       "    (4): Conv2d(64, 64, kernel_size=(3, 3), stride=(1, 1), padding=(1, 1))\n",
       "    (5): ReLU()\n",
       "    (6): Conv2d(64, 64, kernel_size=(3, 3), stride=(1, 1), padding=(1, 1))\n",
       "    (7): ReLU()\n",
       "    (8): Conv2d(64, 128, kernel_size=(4, 4), stride=(2, 2))\n",
       "    (9): ReLU()\n",
       "    (10): Conv2d(128, 256, kernel_size=(4, 4), stride=(2, 2))\n",
       "    (11): ReLU()\n",
       "    (12): Conv2d(256, 256, kernel_size=(4, 4), stride=(2, 2))\n",
       "    (13): ReLU()\n",
       "    (14): Flatten()\n",
       "  )\n",
       "  (fc1): Linear(in_features=1024, out_features=256, bias=True)\n",
       "  (fc2): Linear(in_features=1024, out_features=256, bias=True)\n",
       "  (fc3): Linear(in_features=256, out_features=1024, bias=True)\n",
       "  (decoder): Sequential(\n",
       "    (0): UnFlatten()\n",
       "    (1): ConvTranspose2d(1024, 256, kernel_size=(5, 5), stride=(2, 2))\n",
       "    (2): ReLU()\n",
       "    (3): ConvTranspose2d(256, 128, kernel_size=(5, 5), stride=(2, 2))\n",
       "    (4): ReLU()\n",
       "    (5): ConvTranspose2d(128, 64, kernel_size=(6, 6), stride=(2, 2))\n",
       "    (6): ReLU()\n",
       "    (7): ConvTranspose2d(64, 64, kernel_size=(3, 3), stride=(1, 1), padding=(1, 1))\n",
       "    (8): ReLU()\n",
       "    (9): ConvTranspose2d(64, 64, kernel_size=(3, 3), stride=(1, 1), padding=(1, 1))\n",
       "    (10): ReLU()\n",
       "    (11): ConvTranspose2d(64, 64, kernel_size=(3, 3), stride=(1, 1), padding=(1, 1))\n",
       "    (12): ReLU()\n",
       "    (13): ConvTranspose2d(64, 3, kernel_size=(6, 6), stride=(2, 2))\n",
       "    (14): Sigmoid()\n",
       "  )\n",
       ")"
      ]
     },
     "execution_count": 396,
     "metadata": {},
     "output_type": "execute_result"
    }
   ],
   "source": [
    "import torch\n",
    "\n",
    "import torch.nn as nn\n",
    "\n",
    "#from nvae.utils import add_sn\n",
    "#from nvae.vae_celeba import NVAE\n",
    "import numpy as np\n",
    "import matplotlib.pyplot as plt\n",
    "#from nvae.utils import reparameterize\n",
    "\n",
    "\n",
    "device = (\"cuda:0\" if torch.cuda.is_available() else \"cpu\") # Use GPU or CPU for training\n",
    "\n",
    "from vae import VAE_big\n",
    "\n",
    "model = VAE_big(device, image_channels=3).to(device)\n",
    "\n",
    "train_data_size = 162079\n",
    "epochs = 199\n",
    "\n",
    "beta_value = 10.0\n",
    "\n",
    "if(beta_value == 1.0):\n",
    "    model.load_state_dict(torch.load('/home/luser/autoencoder_attacks/saved_celebA/checkpoints/celebA_CNN_VAE_big_trainSize'+str(train_data_size)+'_epochs'+str(epochs)+'.torch'))\n",
    "else:\n",
    "    model.load_state_dict(torch.load('/home/luser/autoencoder_attacks/saved_celebA/checkpoints/celebA_CNN_VAE'+str(beta_value)+'_big_trainSize'+str(train_data_size)+'_epochs'+str(epochs)+'.torch'))\n",
    "\n",
    "model.eval()\n"
   ]
  },
  {
   "cell_type": "code",
   "execution_count": 397,
   "metadata": {},
   "outputs": [],
   "source": [
    "parent_addresses = [all_men_parent, all_women_parent, all_young_parent, all_old_parent, young_men_parent, old_men_parent, young_women_parent, old_women_parent]\n",
    "considered_lists = [all_men_list, all_women_list, all_young_list, all_old_list, young_men_list, old_men_list, young_women_list, old_women_list]"
   ]
  },
  {
   "cell_type": "code",
   "execution_count": 398,
   "metadata": {},
   "outputs": [
    {
     "name": "stdout",
     "output_type": "stream",
     "text": [
      "ind:  4\n",
      "parent_addresses[ind]:  /home/luser/autoencoder_attacks/train_aautoencoders/celebA_categorized/celebA_youngMen_d\n",
      "celeba_data:  53447\n",
      "considered_list:  53447\n",
      "z1.shape torch.Size([1000, 256])\n",
      "all_latent_groups_merged.shape torch.Size([1000, 256])\n",
      "ind:  5\n",
      "parent_addresses[ind]:  /home/luser/autoencoder_attacks/train_aautoencoders/celebA_categorized/celebA_oldMen_d\n",
      "celeba_data:  7003\n",
      "considered_list:  7003\n",
      "z1.shape torch.Size([1000, 256])\n",
      "all_latent_groups_merged.shape torch.Size([2000, 256])\n",
      "ind:  6\n",
      "parent_addresses[ind]:  /home/luser/autoencoder_attacks/train_aautoencoders/celebA_categorized/celebA_youngWomen_d\n",
      "celeba_data:  103287\n",
      "considered_list:  103287\n",
      "z1.shape torch.Size([1000, 256])\n",
      "all_latent_groups_merged.shape torch.Size([3000, 256])\n",
      "ind:  7\n",
      "parent_addresses[ind]:  /home/luser/autoencoder_attacks/train_aautoencoders/celebA_categorized/celebA_oldWomen_d\n",
      "celeba_data:  1116\n",
      "considered_list:  1116\n",
      "z1.shape torch.Size([1000, 256])\n",
      "all_latent_groups_merged.shape torch.Size([4000, 256])\n"
     ]
    }
   ],
   "source": [
    "all_latent_groups_merged = torch.tensor([]).to(device)\n",
    "\n",
    "for ind in range(4, 8):\n",
    "    print(\"ind: \", ind)\n",
    "    transform = transforms.Compose([\n",
    "            transforms.Resize((64, 64)),\n",
    "            transforms.ToTensor()\n",
    "            ])\n",
    "\n",
    "    batch_size = 1000\n",
    "\n",
    "    print(\"parent_addresses[ind]: \", parent_addresses[ind])\n",
    "\n",
    "    celeba_data = datasets.ImageFolder(parent_addresses[ind], transform=transform)\n",
    "    print(\"celeba_data: \", len(celeba_data))\n",
    "    considered_list = considered_lists[ind]\n",
    "\n",
    "    print(\"considered_list: \", len(considered_list))\n",
    "\n",
    "    train_set, test_set = torch.utils.data.random_split(celeba_data, [int(len(considered_list) * 1.0), len(considered_list) - int(len(considered_list) * 1.0)])\n",
    "    train_data_size = len(train_set)\n",
    "    test_data_size = len(test_set)\n",
    "\n",
    "    trainLoader = torch.utils.data.DataLoader(train_set,batch_size=batch_size, shuffle=True)\n",
    "\n",
    "\n",
    "    for idx, (image, label) in enumerate(trainLoader):\n",
    "        images, label = image.to(device), label.to(device)\n",
    "        break\n",
    "\n",
    "\n",
    "    model.eval()\n",
    "    with torch.no_grad():\n",
    "        ae_perturbed_embeds = model.encoder(images) # some confusion here. Why are you doin whatever you doing . Should not the input be  data + noise_outputs ?\n",
    "        mu1, logvar1 = model.fc1(ae_perturbed_embeds), model.fc2(ae_perturbed_embeds)\n",
    "        std1 = logvar1.mul(0.5).exp_()\n",
    "        esp1 = torch.randn(*mu1.size()).to(device)\n",
    "        z1 = mu1 + std1 * esp1\n",
    "    print(\"z1.shape\", z1.shape)\n",
    "    all_latent_groups_merged = torch.cat((all_latent_groups_merged, z1), 0)\n",
    "    print(\"all_latent_groups_merged.shape\", all_latent_groups_merged.shape)\n"
   ]
  },
  {
   "cell_type": "code",
   "execution_count": null,
   "metadata": {},
   "outputs": [],
   "source": []
  },
  {
   "cell_type": "code",
   "execution_count": 399,
   "metadata": {},
   "outputs": [
    {
     "data": {
      "text/plain": [
       "torch.Size([1000, 256])"
      ]
     },
     "execution_count": 399,
     "metadata": {},
     "output_type": "execute_result"
    }
   ],
   "source": [
    "z1.shape"
   ]
  },
  {
   "cell_type": "code",
   "execution_count": 400,
   "metadata": {},
   "outputs": [
    {
     "name": "stdout",
     "output_type": "stream",
     "text": [
      "torch.Size([4000, 2])\n"
     ]
    }
   ],
   "source": [
    "import torch\n",
    "import numpy as np\n",
    "from openTSNE import TSNE\n",
    "from openTSNE.affinity import PerplexityBasedNN\n",
    "\n",
    "# Check if a GPU is available\n",
    "device = 'cuda:0' if torch.cuda.is_available() else 'cpu'\n",
    "\n",
    "# Assuming your data is a torch tensor of size [63325, 256]\n",
    "#data = torch.randn(63325, 256)  # Example tensor\n",
    "data = all_latent_groups_merged.to(device)\n",
    "\n",
    "# Convert the tensor to a NumPy array\n",
    "data_np = data.cpu().numpy()\n",
    "\n",
    "# Perform t-SNE\n",
    "tsne = TSNE(\n",
    "    n_components=2,\n",
    "    perplexity=30,\n",
    "    metric=\"cosine\",\n",
    "    n_jobs=-1,\n",
    "    random_state=42,\n",
    "    negative_gradient_method=\"fft\"  # Use FFT-based gradient calculation for speed\n",
    ")\n",
    "\n",
    "# Fit and transform the data\n",
    "embedding = tsne.fit(data_np)\n",
    "\n",
    "# Convert the result back to a torch tensor\n",
    "data_tsne_tensor = torch.tensor(embedding, device=device)\n",
    "\n",
    "# Check the size of the reduced tensor\n",
    "print(data_tsne_tensor.shape)  # Should print torch.Size([63325, 2])\n"
   ]
  },
  {
   "cell_type": "code",
   "execution_count": 401,
   "metadata": {},
   "outputs": [],
   "source": [
    "data_tsne_tensor = data_tsne_tensor.cpu().numpy()   "
   ]
  },
  {
   "cell_type": "code",
   "execution_count": 402,
   "metadata": {},
   "outputs": [
    {
     "data": {
      "image/png": "[encoded data removed]",
      "text/plain": [
       "<Figure size 640x480 with 1 Axes>"
      ]
     },
     "metadata": {},
     "output_type": "display_data"
    }
   ],
   "source": [
    "import matplotlib.pyplot as plt\n",
    "\n",
    "# Assuming you have defined colors and labels for each group\n",
    "colors = ['red', 'blue', 'green', 'orange']\n",
    "labels = ['Young men', 'Old men', 'Young women', 'Old women']\n",
    "\n",
    "# Plot each group separately with specified colors and labels\n",
    "plt.scatter(data_tsne_tensor[0*batch_size:1*batch_size, 0], data_tsne_tensor[0*batch_size:1*batch_size, 1], color=colors[0], label=labels[0])\n",
    "plt.scatter(data_tsne_tensor[1*batch_size:2*batch_size, 0], data_tsne_tensor[1*batch_size:2*batch_size, 1], color=colors[1], label=labels[1])\n",
    "plt.scatter(data_tsne_tensor[2*batch_size:3*batch_size, 0], data_tsne_tensor[2*batch_size:3*batch_size, 1], color=colors[2], label=labels[2])\n",
    "plt.scatter(data_tsne_tensor[3*batch_size:4*batch_size, 0], data_tsne_tensor[3*batch_size:4*batch_size, 1], color=colors[3], label=labels[3])\n",
    "\n",
    "# Add legend\n",
    "plt.legend()\n",
    "\n",
    "# Show plot\n",
    "plt.show()\n"
   ]
  },
  {
   "cell_type": "code",
   "execution_count": 283,
   "metadata": {},
   "outputs": [
    {
     "data": {
      "text/plain": [
       "(4000, 2)"
      ]
     },
     "execution_count": 283,
     "metadata": {},
     "output_type": "execute_result"
    }
   ],
   "source": [
    "data_tsne_tensor.shape"
   ]
  },
  {
   "cell_type": "markdown",
   "metadata": {},
   "source": []
  },
  {
   "cell_type": "markdown",
   "metadata": {},
   "source": [
    "# DBSCAN clustering"
   ]
  },
  {
   "cell_type": "code",
   "execution_count": 320,
   "metadata": {},
   "outputs": [
    {
     "name": "stdout",
     "output_type": "stream",
     "text": [
      "torch.Size([4000])\n",
      "tensor([-1,  1,  1,  ...,  0,  1, -1])\n"
     ]
    }
   ],
   "source": [
    "import torch\n",
    "import numpy as np\n",
    "from sklearn.cluster import DBSCAN\n",
    "\n",
    "# Assuming your data is a torch tensor of size [4000, 256]\n",
    "#data = torch.randn(4000, 256)  # Example tensor\n",
    "\n",
    "# Convert the tensor to a NumPy array\n",
    "data_np = data_tsne_tensor\n",
    "\n",
    "# Initialize the DBSCAN object\n",
    "dbscan = DBSCAN(eps=5.0, min_samples=80, n_jobs=-1)\n",
    "\n",
    "# Fit and predict the clusters\n",
    "clusters = dbscan.fit_predict(data_np)\n",
    "\n",
    "# Convert the result back to a torch tensor if needed\n",
    "clusters_tensor = torch.tensor(clusters)\n",
    "\n",
    "# Check the size of the clusters tensor\n",
    "print(clusters_tensor.shape)  # Should print torch.Size([4000])\n",
    "\n",
    "# Optionally, inspect the cluster assignments\n",
    "print(clusters_tensor)\n"
   ]
  },
  {
   "cell_type": "code",
   "execution_count": 321,
   "metadata": {},
   "outputs": [
    {
     "data": {
      "text/plain": [
       "(tensor(3), tensor(-1))"
      ]
     },
     "execution_count": 321,
     "metadata": {},
     "output_type": "execute_result"
    }
   ],
   "source": [
    "\n",
    "clusters_tensor.max(), clusters_tensor.min()"
   ]
  },
  {
   "cell_type": "code",
   "execution_count": 322,
   "metadata": {},
   "outputs": [
    {
     "name": "stdout",
     "output_type": "stream",
     "text": [
      "0 (array([-1,  0,  1,  2,  3]), array([327, 266, 351,  22,  34]))\n",
      "1 (array([-1,  0,  1,  2,  3]), array([338, 217, 423,   5,  17]))\n",
      "2 (array([-1,  0,  1,  2,  3]), array([310, 149, 335, 167,  39]))\n",
      "3 (array([-1,  0,  1,  2,  3]), array([368, 226, 378,   8,  20]))\n"
     ]
    }
   ],
   "source": [
    "for i in range(4):\n",
    "    print(i, np.unique(clusters_tensor[i*batch_size:(i+1)*batch_size], return_counts=True))\n"
   ]
  },
  {
   "cell_type": "code",
   "execution_count": 331,
   "metadata": {},
   "outputs": [
    {
     "data": {
      "text/plain": [
       "(1343, 858, 1487, 202, 110)"
      ]
     },
     "execution_count": 331,
     "metadata": {},
     "output_type": "execute_result"
    }
   ],
   "source": [
    "len(np.where(clusters_tensor==-1)[0]), len(np.where(clusters_tensor==0)[0]), len(np.where(clusters_tensor==1)[0]), len(np.where(clusters_tensor==2)[0]), len(np.where(clusters_tensor==3)[0])"
   ]
  },
  {
   "cell_type": "code",
   "execution_count": 329,
   "metadata": {},
   "outputs": [
    {
     "data": {
      "text/plain": [
       "array([   0,    4,    5, ..., 3993, 3994, 3999])"
      ]
     },
     "execution_count": 329,
     "metadata": {},
     "output_type": "execute_result"
    }
   ],
   "source": [
    "np.where(clusters_tensor==-1)[0]"
   ]
  },
  {
   "cell_type": "code",
   "execution_count": 339,
   "metadata": {},
   "outputs": [],
   "source": []
  },
  {
   "cell_type": "code",
   "execution_count": 364,
   "metadata": {},
   "outputs": [
    {
     "data": {
      "text/plain": [
       "(266, 217, 149, 226)"
      ]
     },
     "execution_count": 364,
     "metadata": {},
     "output_type": "execute_result"
    }
   ],
   "source": [
    "cluster_1_inds = np.where(clusters_tensor==0)[0]\n",
    "len(cluster_1_inds[cluster_1_inds<1000]), len(cluster_1_inds[(1000<cluster_1_inds) & (cluster_1_inds<2000)]), len(cluster_1_inds[(2000<cluster_1_inds) & (cluster_1_inds<3000)]), len(cluster_1_inds[cluster_1_inds>3000])"
   ]
  },
  {
   "cell_type": "code",
   "execution_count": 365,
   "metadata": {},
   "outputs": [
    {
     "data": {
      "text/plain": [
       "(351, 422, 334, 377)"
      ]
     },
     "execution_count": 365,
     "metadata": {},
     "output_type": "execute_result"
    }
   ],
   "source": [
    "cluster_1_inds = np.where(clusters_tensor==1)[0]\n",
    "len(cluster_1_inds[cluster_1_inds<1000]), len(cluster_1_inds[(1000<cluster_1_inds) & (cluster_1_inds<2000)]), len(cluster_1_inds[(2000<cluster_1_inds) & (cluster_1_inds<3000)]), len(cluster_1_inds[cluster_1_inds>3000])"
   ]
  },
  {
   "cell_type": "code",
   "execution_count": 366,
   "metadata": {},
   "outputs": [
    {
     "data": {
      "text/plain": [
       "(22, 5, 167, 8)"
      ]
     },
     "execution_count": 366,
     "metadata": {},
     "output_type": "execute_result"
    }
   ],
   "source": [
    "cluster_1_inds = np.where(clusters_tensor==2)[0]\n",
    "len(cluster_1_inds[cluster_1_inds<1000]), len(cluster_1_inds[(1000<cluster_1_inds) & (cluster_1_inds<2000)]), len(cluster_1_inds[(2000<cluster_1_inds) & (cluster_1_inds<3000)]), len(cluster_1_inds[cluster_1_inds>3000])"
   ]
  },
  {
   "cell_type": "code",
   "execution_count": 367,
   "metadata": {},
   "outputs": [
    {
     "data": {
      "text/plain": [
       "(34, 17, 39, 20)"
      ]
     },
     "execution_count": 367,
     "metadata": {},
     "output_type": "execute_result"
    }
   ],
   "source": [
    "cluster_1_inds = np.where(clusters_tensor==3)[0]\n",
    "len(cluster_1_inds[cluster_1_inds<1000]), len(cluster_1_inds[(1000<cluster_1_inds) & (cluster_1_inds<2000)]), len(cluster_1_inds[(2000<cluster_1_inds) & (cluster_1_inds<3000)]), len(cluster_1_inds[cluster_1_inds>3000])"
   ]
  },
  {
   "cell_type": "code",
   "execution_count": null,
   "metadata": {},
   "outputs": [],
   "source": []
  },
  {
   "cell_type": "markdown",
   "metadata": {},
   "source": [
    "# Do TSNE to 3 dimensions and plot"
   ]
  },
  {
   "cell_type": "code",
   "execution_count": null,
   "metadata": {},
   "outputs": [],
   "source": []
  }
 ],
 "metadata": {
  "kernelspec": {
   "display_name": "inn",
   "language": "python",
   "name": "python3"
  },
  "language_info": {
   "codemirror_mode": {
    "name": "ipython",
    "version": 3
   },
   "file_extension": ".py",
   "mimetype": "text/x-python",
   "name": "python",
   "nbconvert_exporter": "python",
   "pygments_lexer": "ipython3",
   "version": "3.9.-1"
  }
 },
 "nbformat": 4,
 "nbformat_minor": 2
}
